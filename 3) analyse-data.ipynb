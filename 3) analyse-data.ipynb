{
 "cells": [
  {
   "cell_type": "markdown",
   "metadata": {},
   "source": [
    "L'analyse des données\n",
    "Le but de ce cahier est de prédire la mort à l'hôpital en visite à l'USI sur la base des 24 premières heures de séjour à l'unité de soins intensifs."
   ]
  },
  {
   "cell_type": "code",
   "execution_count": 2,
   "metadata": {},
   "outputs": [],
   "source": [
    "# Import libraries\n",
    "import numpy as np\n",
    "import pandas as pd\n",
    "import matplotlib.pyplot as plt\n",
    "from scipy.spatial import distance\n",
    "import seaborn as sns\n",
    "import urllib.request\n",
    "import zipfile\n",
    "import os\n",
    "from time import time\n",
    "\n",
    "# custom py files\n",
    "import dtw\n",
    "import KNN\n",
    "import visuals as vs\n",
    "\n",
    "# for pretty printing pandas dataframes\n",
    "from IPython.display import display, HTML\n",
    "\n",
    "%matplotlib inline\n",
    "plt.style.use('seaborn-notebook')"
   ]
  },
  {
   "cell_type": "markdown",
   "metadata": {},
   "source": [
    "Télécharger les données¶"
   ]
  },
  {
   "cell_type": "code",
   "execution_count": 3,
   "metadata": {},
   "outputs": [],
   "source": [
    "# generate a data folder, we store all data in this folder\n",
    "if not os.path.exists('data'):\n",
    "    os.makedirs('data')\n",
    "    \n",
    "# download and unzip the rawdata\n",
    "url = 'https://api.onedrive.com/v1.0/shares/u!aHR0cHM6Ly8xZHJ2Lm1zL3UvcyFBdk96S3k0djAydHpndFU0OGphUW9DMU5QR1VOTGc/root/content'\n",
    "urllib.request.urlretrieve(url, \"download.zip\")\n",
    "\n",
    "with zipfile.ZipFile(\"download.zip\",\"r\") as zip_ref:\n",
    "    zip_ref.extractall(\"data\")"
   ]
  },
  {
   "cell_type": "markdown",
   "metadata": {},
   "source": [
    "Les fonctions"
   ]
  },
  {
   "cell_type": "code",
   "execution_count": 4,
   "metadata": {},
   "outputs": [],
   "source": [
    "def get_path(filename, suffix):\n",
    "    \"\"\"\n",
    "    Return the path of the file.\n",
    "    \n",
    "    iuputs:\n",
    "      - filename: string that points the file\n",
    "      - suffic: string that indicates the file format\n",
    "    \"\"\"\n",
    "    cwd = os.getcwd()\n",
    "    dir_name = os.path.join(cwd, 'data')\n",
    "    return os.path.join(dir_name, filename + \".\" + suffix)"
   ]
  },
  {
   "cell_type": "raw",
   "metadata": {},
   "source": [
    "Charger les données\n",
    "Ce sont des données de train, validation et de test, et toutes sont chargées dans un dictionnaire nommé 'data'. Le multi-index représente deux dimensions, l'id du patient et le temps."
   ]
  },
  {
   "cell_type": "code",
   "execution_count": 6,
   "metadata": {},
   "outputs": [],
   "source": [
    "names = ['X_train', 'X_test', 'y_train', 'y_test']\n",
    "\n",
    "data = {(name):(pd.read_csv(get_path(name, 'csv'), index_col = [0,1]) if name.split('_')[0] == 'X' \n",
    "                else pd.read_csv(get_path(name, 'csv'), index_col = 0)) for name in names }\n"
   ]
  },
  {
   "cell_type": "code",
   "execution_count": null,
   "metadata": {},
   "outputs": [],
   "source": []
  },
  {
   "cell_type": "markdown",
   "metadata": {},
   "source": [
    "Données DTW\n",
    "Ensuite, nous générons les données pour le classificateur kNN de distorsion temporelle dynamique (DTW)."
   ]
  },
  {
   "cell_type": "code",
   "execution_count": 10,
   "metadata": {},
   "outputs": [],
   "source": [
    "# data for DTW kNN classifier\n",
    "data_dtw = {}\n",
    "\n",
    "for X in ['X_test', 'X_train']:\n",
    "    df = data[X]\n",
    "    data_dtw[X] = []\n",
    "    for key, value in df.groupby(level=0):\n",
    "        data_dtw[X].append(value.values)\n",
    "    data_dtw[X] = np.array(data_dtw[X])"
   ]
  },
  {
   "cell_type": "code",
   "execution_count": null,
   "metadata": {},
   "outputs": [],
   "source": []
  },
  {
   "cell_type": "raw",
   "metadata": {},
   "source": [
    "Données pour les classificateurs conventionnels\n",
    "En plus d'utiliser le DTN kNN, nous utilisons également des classificateurs conventionnels pour prédire la mort à l'hôpital. Mais, nous devons d'abord extraire de nouvelles fonctionnalités de la série temporelle multivariée et réduire les dimensions des données de la 3D à la 2D."
   ]
  },
  {
   "cell_type": "code",
   "execution_count": 11,
   "metadata": {},
   "outputs": [],
   "source": [
    "# données pour les classificateurs conventionnels\n",
    "data_agg = {}\n",
    "\n",
    "# extraire les propriétés statistiques telles que moyenne, médiane, max, min, std pour chaque patient utilisant groupby dans Pandas\n",
    "for name, df in data.items():\n",
    "    data_agg[name] = df.groupby('id').agg([np.median, max, min, np.mean, np.std])\n",
    "    data_agg[name].columns = ['_'.join( ( col[0], col[1])) for col in data_agg[name].columns]"
   ]
  },
  {
   "cell_type": "code",
   "execution_count": null,
   "metadata": {},
   "outputs": [],
   "source": []
  },
  {
   "cell_type": "raw",
   "metadata": {},
   "source": [
    "En outre, nous nous intéressons également au nombre de points de données au-dessous ou au-dessus des Q1 et Q3 globaux pour chaque patient."
   ]
  },
  {
   "cell_type": "code",
   "execution_count": 12,
   "metadata": {},
   "outputs": [],
   "source": [
    "# Fonction pour compter les points de données au-dessous / au-dessus du seuil\n",
    "def count_below_threshold(array, threshold):\n",
    "    '''Compter les points de données inférieurs au seuil dans la série chronologique'''\n",
    "    return np.sum(array < threshold.reshape(1,array.shape[1]), axis=0)/array.shape[0]\n",
    "\n",
    "def count_above_threshold(array, threshold):\n",
    "    '''Compter les points de données au-dessus du seuil dans la série chronologique'''\n",
    "    return np.sum(array > threshold.reshape(1,array.shape[1]), axis=0)/array.shape[0]\n",
    "\n",
    "data_quartiles = {}\n",
    "\n",
    "# constantes\n",
    "count_funcs = [count_below_threshold, count_above_threshold]\n",
    "column_names = ['below_Q1', 'above_Q3']\n",
    "quartiles = {key: data[\"X_train\"].quantile(value) \\\n",
    "             for (key,value) in zip(['Q1', 'Q3'], [0.25, 0.75])} # global quantiles of trainig data\n",
    "\n",
    "# Boucle pour créer de nouvelles fonctionnalités et les stocker dans des quartiles de données\n",
    "for name, df in data.items():\n",
    "    if name.split('_')[0] == 'X': # Only consider the training data\n",
    "        data_quartiles[name] = {}\n",
    "        for Q, func, column in zip(['Q1', 'Q3'], count_funcs, column_names):\n",
    "            data_quartiles[name][Q] = df.groupby('id').apply(lambda x: func(x, quartiles[Q].values))\n",
    "            data_quartiles[name][Q].columns = ['_'.join( ( col, column)) for col in data_quartiles[name][Q].columns]\n",
    "            \n",
    "# Concat data_quantile into data_agg\n",
    "for name in ['X_train', 'X_test']:\n",
    "    combined_df = pd.concat( [data_quartiles[name]['Q1'], data_quartiles[name]['Q3'], data_agg[name]], axis =1)\n",
    "    data_agg[name] = combined_df"
   ]
  },
  {
   "cell_type": "markdown",
   "metadata": {},
   "source": [
    "Calcul des scores de Benchmark"
   ]
  },
  {
   "cell_type": "code",
   "execution_count": 13,
   "metadata": {},
   "outputs": [
    {
     "name": "stdout",
     "output_type": "stream",
     "text": [
      "Le score F1 et le MCC du benchmark des données de test sont: 0.3713768115942029, 0.28981016250795055\n",
      "Le score F1 et le MCC du prédicteur naïf sont: 0.2189239332096475, 0.0\n"
     ]
    },
    {
     "name": "stderr",
     "output_type": "stream",
     "text": [
      "/anaconda3/lib/python3.6/site-packages/sklearn/metrics/classification.py:538: RuntimeWarning: invalid value encountered in double_scalars\n",
      "  mcc = cov_ytyp / np.sqrt(cov_ytyt * cov_ypyp)\n"
     ]
    }
   ],
   "source": [
    "from sklearn.metrics import f1_score, matthews_corrcoef\n",
    "\n",
    "# stocker les partitions dans un dictionnaire\n",
    "score_metrics = {'f1': f1_score, 'mcc': matthews_corrcoef}\n",
    "\n",
    "# crée le score pour Benchmark\n",
    "score_benchmark = {}\n",
    "\n",
    "# performance de Benchmark\n",
    "for name, func in score_metrics.items():\n",
    "    score_benchmark[name+'_test'] = func(data['y_test']['in_hospital_death'], data['y_test']['sapsii_prediction'])\n",
    "    score_benchmark[name+'_train'] = func(data['y_train']['in_hospital_death'], data['y_train']['sapsii_prediction'])\n",
    "\n",
    "print(\"Le score F1 et le MCC du benchmark des données de test sont: {}, {}\".format(score_benchmark['f1_test'], \n",
    "                                                                                 score_benchmark['mcc_test']))\n",
    "\n",
    "# performance de naive learner\n",
    "score_naive = {}\n",
    "# sur le sous-ensemble d'échantillons de test\n",
    "score_naive['f1_test'] = f1_score(data['y_test']['in_hospital_death'][:480], np.ones( (480,) ))\n",
    "score_naive['mcc_test'] = matthews_corrcoef(data['y_test']['in_hospital_death'][:480], np.ones( (480,) ))\n",
    "\n",
    "print(\"Le score F1 et le MCC du prédicteur naïf sont: {}, {}\".format(score_naive['f1_test'], score_naive['mcc_test']))"
   ]
  },
  {
   "cell_type": "markdown",
   "metadata": {},
   "source": [
    "Prédiction avec le classificateur DTN kNN\n",
    "Ici, c'est la première tentative de former l'apprenant en DTW avec un classificateur KNN."
   ]
  },
  {
   "cell_type": "code",
   "execution_count": 14,
   "metadata": {},
   "outputs": [
    {
     "data": {
      "text/plain": [
       "{'f1_test': 0.27499999999999997,\n",
       " 'mcc_test': 0.2611594868357666,\n",
       " 'pred_time': 2432.8259539604187,\n",
       " 'train_time': 0.0040738582611083984}"
      ]
     },
     "execution_count": 14,
     "metadata": {},
     "output_type": "execute_result"
    }
   ],
   "source": [
    "results = {}\n",
    "\n",
    "# Custom metric\n",
    "def dtw_metric(a,b):\n",
    "    similarity, _ = dtw.dynamic_time_wraping(a,b, distance.euclidean)\n",
    "    return similarity\n",
    "\n",
    "# initize the classifier\n",
    "dtw_kNN_clf = KNN.KNNClassifier(metric=dtw_metric)\n",
    "\n",
    "# First, we start with 1922 training samples since kNN is a slow classifier\n",
    "start = time() # Get start time\n",
    "dtw_kNN_clf.fit(data_dtw['X_train'][:1922], data['y_train']['in_hospital_death'][:1922])\n",
    "end = time() # Get end time\n",
    "    \n",
    "# Record the training time\n",
    "results['train_time'] = end - start\n",
    "    \n",
    "# Make predictions on train subset (with the size of test set) and test set\n",
    "start = time() # Get start time\n",
    "predictions_test = dtw_kNN_clf.predict(data_dtw['X_test'][:480])\n",
    "end = time() # Get end time\n",
    "results['pred_time'] = end - start\n",
    "            \n",
    "# Compute F-score on the train subset and test set\n",
    "for name, func in score_metrics.items():\n",
    "    results[name+'_test'] = func(data['y_test']['in_hospital_death'][:480], predictions_test)\n",
    "        \n",
    "# Return the results\n",
    "results"
   ]
  },
  {
   "cell_type": "raw",
   "metadata": {},
   "source": [
    "Les résultats suggèrent que le classificateur DTN kNN est coûteux en calcul. Ses performances ne sont pas non plus très prometteuses."
   ]
  },
  {
   "cell_type": "raw",
   "metadata": {},
   "source": [
    "Prédiction avec les classificateurs conventionnels\n",
    "La deuxième tentative dans ce projet consiste à utiliser des méthodes de classification habituelles telles que la régression logistique. Dans ce projet, la régression logistique, l'arbre de décision, le boost de gradient, et les classificateurs de perceptron multicouche sont utilisés."
   ]
  },
  {
   "cell_type": "code",
   "execution_count": 15,
   "metadata": {},
   "outputs": [],
   "source": [
    "def train_predict(learner, sample_size, X_train, y_train, X_test, y_test, metrics): \n",
    "    '''\n",
    "    contributions:\n",
    "        - learner: l'algorithme d'apprentissage à former et à prédire sur\n",
    "        - sample_size: la taille des échantillons (nombre) à tirer de l'ensemble d'apprentissage\n",
    "        - X_train: ensemble d'exercices de fonctionnalités\n",
    "        - y_train: ensemble de formation au revenu\n",
    "        - X_test: ensemble de tests de fonctionnalités\n",
    "        - y_test: ensemble de tests de revenu\n",
    "        - metrics: dictionnaire pour stocker les métriques\n",
    "     '''\n",
    "    results = {}\n",
    "    \n",
    "    # Ajuster l'apprenant aux données d'apprentissage en les coupant avec 'sample_size'\n",
    "    start = time() # Get start time\n",
    "    learner.fit(X_train[:sample_size], y_train[:sample_size])\n",
    "    end = time() # Get end time\n",
    "    \n",
    "    # Enregistrer le temps de formation\n",
    "    results['train_time'] = end - start\n",
    "    \n",
    "    # Faire des prédictions sur les données de train\n",
    "    start = time() # Get start time\n",
    "    predictions_test = learner.predict(X_test)\n",
    "    predictions_train = learner.predict(X_train)\n",
    "    end = time() # Get end time\n",
    "    results['pred_time'] = end - start\n",
    "    \n",
    "    for score, func in metrics.items():\n",
    "    # Calculer le score sur le sous-ensemble du train et l'ensemble de test\n",
    "        results[score+\"_train\"] = func(y_train, predictions_train)\n",
    "        results[score+\"_test\"] = func(y_test, predictions_test)\n",
    "    \n",
    "    # Succès\n",
    "    print(\"{} formé sur {} échantillons.\".format(learner.__class__.__name__, sample_size))\n",
    "        \n",
    "# Retourner les résultats\n",
    "    return results"
   ]
  },
  {
   "cell_type": "raw",
   "metadata": {},
   "source": [
    "Formation initiale¶"
   ]
  },
  {
   "cell_type": "code",
   "execution_count": 33,
   "metadata": {},
   "outputs": [
    {
     "name": "stdout",
     "output_type": "stream",
     "text": [
      "LogisticRegression formé sur 192 échantillons.\n",
      "LogisticRegression formé sur 1922 échantillons.\n",
      "LogisticRegression formé sur 19220 échantillons.\n",
      "DecisionTreeClassifier formé sur 192 échantillons.\n",
      "DecisionTreeClassifier formé sur 1922 échantillons.\n",
      "DecisionTreeClassifier formé sur 19220 échantillons.\n",
      "GradientBoostingClassifier formé sur 192 échantillons.\n",
      "GradientBoostingClassifier formé sur 1922 échantillons.\n",
      "GradientBoostingClassifier formé sur 19220 échantillons.\n"
     ]
    },
    {
     "name": "stderr",
     "output_type": "stream",
     "text": [
      "/anaconda3/lib/python3.6/site-packages/sklearn/metrics/classification.py:1135: UndefinedMetricWarning: F-score is ill-defined and being set to 0.0 due to no predicted samples.\n",
      "  'precision', 'predicted', average, warn_for)\n",
      "/anaconda3/lib/python3.6/site-packages/sklearn/metrics/classification.py:538: RuntimeWarning: invalid value encountered in double_scalars\n",
      "  mcc = cov_ytyp / np.sqrt(cov_ytyt * cov_ypyp)\n"
     ]
    },
    {
     "name": "stdout",
     "output_type": "stream",
     "text": [
      "KerasClassifier formé sur 192 échantillons.\n",
      "KerasClassifier formé sur 1922 échantillons.\n",
      "KerasClassifier formé sur 19220 échantillons.\n"
     ]
    },
    {
     "data": {
      "image/png": "[encoded data removed]",
      "text/plain": [
       "<matplotlib.figure.Figure at 0x1092fe4e0>"
      ]
     },
     "metadata": {},
     "output_type": "display_data"
    }
   ],
   "source": [
    "from sklearn.linear_model import LogisticRegression\n",
    "from sklearn.tree import DecisionTreeClassifier\n",
    "from sklearn.ensemble import GradientBoostingClassifier\n",
    "from keras.models import Sequential\n",
    "from keras.layers import Dense, Dropout, Flatten\n",
    "from keras.wrappers.scikit_learn import KerasClassifier\n",
    "\n",
    "# fixe la graine aléatoire pour la reproductibilité\n",
    "seed = 0\n",
    "np.random.seed(seed)\n",
    "\n",
    "# créer un wrapper keras\n",
    "def keras_model():\n",
    "    # créer un modèle\n",
    "    clf_MLP = Sequential()\n",
    "    clf_MLP.add(Dense(128, activation='relu', input_shape= data_agg['X_train'].shape[1:]))\n",
    "    clf_MLP.add(Dropout(0.1))\n",
    "    clf_MLP.add(Dense(32, activation='relu'))\n",
    "    clf_MLP.add(Dropout(0.1))\n",
    "    clf_MLP.add(Dense(8, activation='relu'))\n",
    "    clf_MLP.add(Dropout(0.1))\n",
    "    clf_MLP.add(Dense(1, activation='sigmoid'))\n",
    "    #clf_MLP.summary()\n",
    "    clf_MLP.compile(optimizer= 'adam', loss='binary_crossentropy')\n",
    "    return clf_MLP\n",
    "\n",
    "# Initialiser les trois modèles avec les paramètres par défaut\n",
    "clf_A = LogisticRegression(random_state = 0) \n",
    "clf_B = DecisionTreeClassifier(random_state = 0)\n",
    "clf_C = GradientBoostingClassifier(random_state=0)\n",
    "clf_MLP = KerasClassifier(build_fn=keras_model, verbose=0)\n",
    "\n",
    "# Calculez le nombre d'échantillons pour 1%, 10% et 100% des données d'entraînement\n",
    "samples_100 = len(data['y_train'])\n",
    "samples_10 = int(round(0.1*samples_100))\n",
    "samples_1 = int(round(0.1*samples_10))\n",
    "\n",
    "# Collecter les résultats sur les apprenants\n",
    "results = {}\n",
    "for clf in [clf_A, clf_B, clf_C, clf_MLP]:\n",
    "    clf_name = clf.__class__.__name__\n",
    "    results[clf_name] = {}\n",
    "    for i, samples in enumerate([samples_1, samples_10, samples_100]):\n",
    "        results[clf_name][i] = \\\n",
    "        train_predict(clf, samples, \n",
    "                      data_agg['X_train'].values, data['y_train']['in_hospital_death'], \n",
    "                      data_agg['X_test'].values, data['y_test']['in_hospital_death'], score_metrics)\n",
    "        \n",
    "# visualiser les résultats\n",
    "vs.evaluate(results, score_benchmark)"
   ]
  },
  {
   "cell_type": "code",
   "execution_count": null,
   "metadata": {},
   "outputs": [],
   "source": []
  },
  {
   "cell_type": "raw",
   "metadata": {},
   "source": [
    "Réglage des hyperparamètres\n",
    "Nous avons mis en place une fonction pour utiliser sklearn GridSearch pour régler les hyperparamètres."
   ]
  },
  {
   "cell_type": "code",
   "execution_count": 35,
   "metadata": {},
   "outputs": [],
   "source": [
    "# Import 'GridSearchCV', 'make_scorer', and any other necessary libraries\n",
    "from sklearn.model_selection import GridSearchCV\n",
    "from sklearn.metrics import make_scorer\n",
    "\n",
    "def gridsearch(clf, scorer, X_train, y_train, X_test, y_test, parameters):\n",
    "    \"\"\" apply grid search on clf \"\"\"\n",
    "# Effectuez une recherche de grille sur le classificateur en utilisant 'scorer' comme méthode de notation en utilisant GridSearchCV ()    grid_obj = GridSearchCV(estimator=clf, scoring=scorer, param_grid=parameters, cv=5)\n",
    "\n",
    "# Ajoute l'objet de recherche de grille aux données d'apprentissage et trouve les paramètres optimaux en utilisant fit ()    grid_fit = grid_obj.fit(X_train, y_train)\n",
    "\n",
    "# Obtenez le meilleur estimateur, paramètres et cv_results    best_clf = grid_fit.best_estimator_\n",
    "    best_score = grid_fit.best_score_\n",
    "    best_params = grid_fit.best_params_\n",
    "    \n",
    "    cv_results = grid_fit.cv_results_\n",
    "    means = cv_results['mean_test_score']\n",
    "    stds = cv_results['std_test_score']\n",
    "    params = cv_results['params']\n",
    "    \n",
    "    print(\"Best parameters: {}\".format(best_params))\n",
    "    print(\"Best score: {}\".format(best_score))\n",
    "    for mean, stdev, param in zip(means, stds, params):\n",
    "        print(\"mean: {:3f}, std: {:3f} for {}\".format(mean, stdev, param))\n",
    "    \n",
    "    return best_score, best_params, cv_results"
   ]
  },
  {
   "cell_type": "markdown",
   "metadata": {},
   "source": [
    "Réglage sur le classificateur boost boost."
   ]
  },
  {
   "cell_type": "code",
   "execution_count": 34,
   "metadata": {},
   "outputs": [
    {
     "ename": "NameError",
     "evalue": "name 'grid_fit' is not defined",
     "output_type": "error",
     "traceback": [
      "\u001b[0;31m---------------------------------------------------------------------------\u001b[0m",
      "\u001b[0;31mNameError\u001b[0m                                 Traceback (most recent call last)",
      "\u001b[0;32m<ipython-input-34-ee4c66f99fd5>\u001b[0m in \u001b[0;36m<module>\u001b[0;34m()\u001b[0m\n\u001b[1;32m     14\u001b[0m                                                     \u001b[0mdata_agg\u001b[0m\u001b[0;34m[\u001b[0m\u001b[0;34m'X_train'\u001b[0m\u001b[0;34m]\u001b[0m\u001b[0;34m,\u001b[0m \u001b[0mdata\u001b[0m\u001b[0;34m[\u001b[0m\u001b[0;34m'y_train'\u001b[0m\u001b[0;34m]\u001b[0m\u001b[0;34m[\u001b[0m\u001b[0;34m'in_hospital_death'\u001b[0m\u001b[0;34m]\u001b[0m\u001b[0;34m,\u001b[0m\u001b[0;34m\u001b[0m\u001b[0m\n\u001b[1;32m     15\u001b[0m                                                     \u001b[0mdata_agg\u001b[0m\u001b[0;34m[\u001b[0m\u001b[0;34m'X_test'\u001b[0m\u001b[0;34m]\u001b[0m\u001b[0;34m,\u001b[0m \u001b[0mdata\u001b[0m\u001b[0;34m[\u001b[0m\u001b[0;34m'y_test'\u001b[0m\u001b[0;34m]\u001b[0m\u001b[0;34m[\u001b[0m\u001b[0;34m'in_hospital_death'\u001b[0m\u001b[0;34m]\u001b[0m\u001b[0;34m,\u001b[0m\u001b[0;34m\u001b[0m\u001b[0m\n\u001b[0;32m---> 16\u001b[0;31m                                                     parameters)\n\u001b[0m",
      "\u001b[0;32m<ipython-input-31-d9f9738e88f0>\u001b[0m in \u001b[0;36mgridsearch\u001b[0;34m(clf, scorer, X_train, y_train, X_test, y_test, parameters)\u001b[0m\n\u001b[1;32m     10\u001b[0m \u001b[0;34m\u001b[0m\u001b[0m\n\u001b[1;32m     11\u001b[0m \u001b[0;31m# Obtenez le meilleur estimateur, paramètres et cv_results    best_clf = grid_fit.best_estimator_\u001b[0m\u001b[0;34m\u001b[0m\u001b[0;34m\u001b[0m\u001b[0m\n\u001b[0;32m---> 12\u001b[0;31m     \u001b[0mbest_score\u001b[0m \u001b[0;34m=\u001b[0m \u001b[0mgrid_fit\u001b[0m\u001b[0;34m.\u001b[0m\u001b[0mbest_score_\u001b[0m\u001b[0;34m\u001b[0m\u001b[0m\n\u001b[0m\u001b[1;32m     13\u001b[0m     \u001b[0mbest_params\u001b[0m \u001b[0;34m=\u001b[0m \u001b[0mgrid_fit\u001b[0m\u001b[0;34m.\u001b[0m\u001b[0mbest_params_\u001b[0m\u001b[0;34m\u001b[0m\u001b[0m\n\u001b[1;32m     14\u001b[0m \u001b[0;34m\u001b[0m\u001b[0m\n",
      "\u001b[0;31mNameError\u001b[0m: name 'grid_fit' is not defined"
     ]
    }
   ],
   "source": [
    "# initialiser le classificateur\n",
    "clf = GradientBoostingClassifier(random_state = 0)\n",
    "\n",
    "# Créer un objet de scoring fbeta_score en utilisant make_scorer ()\n",
    "scorer = make_scorer(f1_score)\n",
    "\n",
    "# Créez la liste des paramètres que vous souhaitez régler, en utilisant un dictionnaire si nécessaire.\n",
    "# nous accordons d'abord le taux d'apprentissage du classificateur\n",
    "learning_rate = np.arange(0.1, 0.31, 0.1)\n",
    "n_estimators = np.arange(60,101,20)\n",
    "parameters = dict(learning_rate=learning_rate, n_estimators=n_estimators)\n",
    "\n",
    "best_clf, best_predictions, cv_results = gridsearch(clf, scorer, \n",
    "                                                    data_agg['X_train'], data['y_train']['in_hospital_death'], \n",
    "                                                    data_agg['X_test'], data['y_test']['in_hospital_death'], \n",
    "                                                    parameters)"
   ]
  },
  {
   "cell_type": "code",
   "execution_count": 25,
   "metadata": {},
   "outputs": [
    {
     "ename": "NameError",
     "evalue": "name 'grid_fit' is not defined",
     "output_type": "error",
     "traceback": [
      "\u001b[0;31m---------------------------------------------------------------------------\u001b[0m",
      "\u001b[0;31mNameError\u001b[0m                                 Traceback (most recent call last)",
      "\u001b[0;32m<ipython-input-25-58020eaf9456>\u001b[0m in \u001b[0;36m<module>\u001b[0;34m()\u001b[0m\n\u001b[1;32m     13\u001b[0m                                         \u001b[0mdata_agg\u001b[0m\u001b[0;34m[\u001b[0m\u001b[0;34m'X_train'\u001b[0m\u001b[0;34m]\u001b[0m\u001b[0;34m,\u001b[0m \u001b[0mdata\u001b[0m\u001b[0;34m[\u001b[0m\u001b[0;34m'y_train'\u001b[0m\u001b[0;34m]\u001b[0m\u001b[0;34m[\u001b[0m\u001b[0;34m'in_hospital_death'\u001b[0m\u001b[0;34m]\u001b[0m\u001b[0;34m,\u001b[0m\u001b[0;34m\u001b[0m\u001b[0m\n\u001b[1;32m     14\u001b[0m                                         \u001b[0mdata_agg\u001b[0m\u001b[0;34m[\u001b[0m\u001b[0;34m'X_test'\u001b[0m\u001b[0;34m]\u001b[0m\u001b[0;34m,\u001b[0m \u001b[0mdata\u001b[0m\u001b[0;34m[\u001b[0m\u001b[0;34m'y_test'\u001b[0m\u001b[0;34m]\u001b[0m\u001b[0;34m[\u001b[0m\u001b[0;34m'in_hospital_death'\u001b[0m\u001b[0;34m]\u001b[0m\u001b[0;34m,\u001b[0m\u001b[0;34m\u001b[0m\u001b[0m\n\u001b[0;32m---> 15\u001b[0;31m                                         parameters)\n\u001b[0m",
      "\u001b[0;32m<ipython-input-23-d9f9738e88f0>\u001b[0m in \u001b[0;36mgridsearch\u001b[0;34m(clf, scorer, X_train, y_train, X_test, y_test, parameters)\u001b[0m\n\u001b[1;32m     10\u001b[0m \u001b[0;34m\u001b[0m\u001b[0m\n\u001b[1;32m     11\u001b[0m \u001b[0;31m# Obtenez le meilleur estimateur, paramètres et cv_results    best_clf = grid_fit.best_estimator_\u001b[0m\u001b[0;34m\u001b[0m\u001b[0;34m\u001b[0m\u001b[0m\n\u001b[0;32m---> 12\u001b[0;31m     \u001b[0mbest_score\u001b[0m \u001b[0;34m=\u001b[0m \u001b[0mgrid_fit\u001b[0m\u001b[0;34m.\u001b[0m\u001b[0mbest_score_\u001b[0m\u001b[0;34m\u001b[0m\u001b[0m\n\u001b[0m\u001b[1;32m     13\u001b[0m     \u001b[0mbest_params\u001b[0m \u001b[0;34m=\u001b[0m \u001b[0mgrid_fit\u001b[0m\u001b[0;34m.\u001b[0m\u001b[0mbest_params_\u001b[0m\u001b[0;34m\u001b[0m\u001b[0m\n\u001b[1;32m     14\u001b[0m \u001b[0;34m\u001b[0m\u001b[0m\n",
      "\u001b[0;31mNameError\u001b[0m: name 'grid_fit' is not defined"
     ]
    }
   ],
   "source": [
    "# learning rate = 0.2 in this case\n",
    "clf = GradientBoostingClassifier(random_state = 0)\n",
    "\n",
    "learning_rate = [0.2]\n",
    "n_estimators = [100]\n",
    "max_depth = np.arange(3, 12, 2)\n",
    "min_samples_split = np.arange(100, 1001, 200)\n",
    "\n",
    "parameters = dict(learning_rate=learning_rate, n_estimators=n_estimators, \n",
    "                  max_depth=max_depth, min_samples_split=min_samples_split)\n",
    "\n",
    "best_clf, best_predictions, cv_results = gridsearch(clf, scorer, \n",
    "                                        data_agg['X_train'], data['y_train']['in_hospital_death'], \n",
    "                                        data_agg['X_test'], data['y_test']['in_hospital_death'], \n",
    "                                        parameters)"
   ]
  },
  {
   "cell_type": "code",
   "execution_count": 29,
   "metadata": {},
   "outputs": [
    {
     "name": "stdout",
     "output_type": "stream",
     "text": [
      "Best parameters: {'learning_rate': 0.2, 'max_depth': 5, 'min_samples_leaf': 1, 'min_samples_split': 100, 'n_estimators': 100}\n",
      "Best score: 0.506621848726305\n",
      "mean: 0.506622, std: 0.010116 for {'learning_rate': 0.2, 'max_depth': 5, 'min_samples_leaf': 1, 'min_samples_split': 100, 'n_estimators': 100}\n",
      "mean: 0.501289, std: 0.021659 for {'learning_rate': 0.2, 'max_depth': 5, 'min_samples_leaf': 21, 'min_samples_split': 100, 'n_estimators': 100}\n",
      "mean: 0.493081, std: 0.010773 for {'learning_rate': 0.2, 'max_depth': 5, 'min_samples_leaf': 41, 'min_samples_split': 100, 'n_estimators': 100}\n",
      "mean: 0.493425, std: 0.021709 for {'learning_rate': 0.2, 'max_depth': 5, 'min_samples_leaf': 61, 'min_samples_split': 100, 'n_estimators': 100}\n"
     ]
    }
   ],
   "source": [
    "# learning rate = 0.25 in this case\n",
    "clf = GradientBoostingClassifier(random_state = 0)\n",
    "\n",
    "learning_rate = [0.2]\n",
    "n_estimators = [100]\n",
    "max_depth = [5]\n",
    "min_samples_split = [100]\n",
    "min_samples_leaf = np.arange(1, 81, 20)\n",
    "\n",
    "parameters = dict(learning_rate=learning_rate, n_estimators=n_estimators, \n",
    "                  max_depth=max_depth, min_samples_split=min_samples_split,\n",
    "                  min_samples_leaf=min_samples_leaf)\n",
    "\n",
    "best_clf, best_predictions, cv_results = gridsearch(clf, scorer, \n",
    "                                        data_agg['X_train'], data['y_train']['in_hospital_death'], \n",
    "                                        data_agg['X_test'], data['y_test']['in_hospital_death'], \n",
    "                                        parameters)"
   ]
  },
  {
   "cell_type": "code",
   "execution_count": 30,
   "metadata": {},
   "outputs": [
    {
     "name": "stdout",
     "output_type": "stream",
     "text": [
      "tuned gradient boost: {'f1_test': 0.48437500000000006, 'mcc_test': 0.4485994263811551}\n"
     ]
    }
   ],
   "source": [
    "tuned_GB_clf = GradientBoostingClassifier(random_state = 0, learning_rate=0.2, n_estimators=100, \n",
    "                                          max_depth=5, min_samples_split=100, min_samples_leaf=1)\n",
    "\n",
    "tuned_GB_clf.fit(data_agg['X_train'].values, data['y_train']['in_hospital_death'])\n",
    "\n",
    "predictions_test = tuned_GB_clf.predict(data_agg['X_test'].values)\n",
    "    \n",
    "tuned_GB_clf_results = {}\n",
    "for score, func in score_metrics.items():\n",
    "# Compute score on the train subset and test set\n",
    "    tuned_GB_clf_results[score+\"_test\"] = func(data['y_test']['in_hospital_death'], predictions_test)\n",
    "    \n",
    "print('tuned gradient boost:', tuned_GB_clf_results)"
   ]
  },
  {
   "cell_type": "code",
   "execution_count": 31,
   "metadata": {},
   "outputs": [
    {
     "name": "stdout",
     "output_type": "stream",
     "text": [
      "Best parameters: {'batch_size': 32, 'epochs': 10}\n",
      "Best score: 0.49446741356509083\n",
      "mean: 0.494467, std: 0.034073 for {'batch_size': 32, 'epochs': 10}\n",
      "mean: 0.471002, std: 0.015658 for {'batch_size': 32, 'epochs': 50}\n",
      "mean: 0.456275, std: 0.018518 for {'batch_size': 32, 'epochs': 100}\n",
      "mean: 0.481420, std: 0.019687 for {'batch_size': 256, 'epochs': 10}\n",
      "mean: 0.491392, std: 0.032887 for {'batch_size': 256, 'epochs': 50}\n",
      "mean: 0.481981, std: 0.018899 for {'batch_size': 256, 'epochs': 100}\n",
      "mean: 0.448962, std: 0.013769 for {'batch_size': 512, 'epochs': 10}\n",
      "mean: 0.492628, std: 0.022415 for {'batch_size': 512, 'epochs': 50}\n",
      "mean: 0.465478, std: 0.015190 for {'batch_size': 512, 'epochs': 100}\n"
     ]
    }
   ],
   "source": [
    "# fix random seed for reproducibility\n",
    "seed = 0\n",
    "np.random.seed(seed)\n",
    "\n",
    "# create keras wrapper\n",
    "def keras_model():\n",
    "    clf_MLP = Sequential()\n",
    "    clf_MLP.add(Dense(128, activation='relu', input_shape= data_agg['X_train'].shape[1:]))\n",
    "    clf_MLP.add(Dropout(0.1))\n",
    "    clf_MLP.add(Dense(32, activation='relu'))\n",
    "    clf_MLP.add(Dropout(0.1))\n",
    "    clf_MLP.add(Dense(8, activation='relu'))\n",
    "    clf_MLP.add(Dropout(0.1))\n",
    "    clf_MLP.add(Dense(1, activation='sigmoid'))\n",
    "    clf_MLP.compile(optimizer= 'adam', loss='binary_crossentropy')\n",
    "    return clf_MLP\n",
    "\n",
    "clf = KerasClassifier(build_fn=keras_model, verbose=0)\n",
    "\n",
    "# Make an f1_score scoring object using make_scorer()\n",
    "scorer = make_scorer(f1_score)\n",
    "\n",
    "# define the grid search parameters\n",
    "batch_size = [32, 256, 512]\n",
    "epochs = [10, 50, 100]\n",
    "parameters = dict(batch_size=batch_size, epochs=epochs)\n",
    "\n",
    "best_clf, best_predictions, cv_results = gridsearch(clf, scorer, \n",
    "                                        data_agg['X_train'].values, data['y_train']['in_hospital_death'], \n",
    "                                        data_agg['X_test'].values, data['y_test']['in_hospital_death'], \n",
    "                                        parameters)"
   ]
  },
  {
   "cell_type": "code",
   "execution_count": 32,
   "metadata": {},
   "outputs": [
    {
     "name": "stdout",
     "output_type": "stream",
     "text": [
      "Epoch 1/50\n",
      "19220/19220 [==============================] - 3s 163us/step - loss: 0.3992\n",
      "Epoch 2/50\n",
      "19220/19220 [==============================] - 0s 14us/step - loss: 0.2966\n",
      "Epoch 3/50\n",
      "19220/19220 [==============================] - 0s 14us/step - loss: 0.2734\n",
      "Epoch 4/50\n",
      "19220/19220 [==============================] - 0s 14us/step - loss: 0.2662\n",
      "Epoch 5/50\n",
      "19220/19220 [==============================] - 0s 14us/step - loss: 0.2630\n",
      "Epoch 6/50\n",
      "19220/19220 [==============================] - 0s 14us/step - loss: 0.2588\n",
      "Epoch 7/50\n",
      "19220/19220 [==============================] - 0s 14us/step - loss: 0.2564\n",
      "Epoch 8/50\n",
      "19220/19220 [==============================] - 0s 14us/step - loss: 0.2555\n",
      "Epoch 9/50\n",
      "19220/19220 [==============================] - 0s 14us/step - loss: 0.2540\n",
      "Epoch 10/50\n",
      "19220/19220 [==============================] - 0s 13us/step - loss: 0.2504\n",
      "Epoch 11/50\n",
      "19220/19220 [==============================] - 0s 14us/step - loss: 0.2501\n",
      "Epoch 12/50\n",
      "19220/19220 [==============================] - 0s 14us/step - loss: 0.2514\n",
      "Epoch 13/50\n",
      "19220/19220 [==============================] - 0s 15us/step - loss: 0.2502\n",
      "Epoch 14/50\n",
      "19220/19220 [==============================] - 0s 14us/step - loss: 0.2473\n",
      "Epoch 15/50\n",
      "19220/19220 [==============================] - 0s 14us/step - loss: 0.2460\n",
      "Epoch 16/50\n",
      "19220/19220 [==============================] - 0s 14us/step - loss: 0.2473\n",
      "Epoch 17/50\n",
      "19220/19220 [==============================] - 0s 14us/step - loss: 0.2437\n",
      "Epoch 18/50\n",
      "19220/19220 [==============================] - 0s 14us/step - loss: 0.2411\n",
      "Epoch 19/50\n",
      "19220/19220 [==============================] - 0s 13us/step - loss: 0.2372\n",
      "Epoch 20/50\n",
      "19220/19220 [==============================] - 0s 14us/step - loss: 0.2373\n",
      "Epoch 21/50\n",
      "19220/19220 [==============================] - 0s 14us/step - loss: 0.2355\n",
      "Epoch 22/50\n",
      "19220/19220 [==============================] - 0s 14us/step - loss: 0.2331\n",
      "Epoch 23/50\n",
      "19220/19220 [==============================] - 0s 14us/step - loss: 0.2320\n",
      "Epoch 24/50\n",
      "19220/19220 [==============================] - 0s 14us/step - loss: 0.2313\n",
      "Epoch 25/50\n",
      "19220/19220 [==============================] - 0s 14us/step - loss: 0.2318\n",
      "Epoch 26/50\n",
      "19220/19220 [==============================] - 0s 16us/step - loss: 0.2281\n",
      "Epoch 27/50\n",
      "19220/19220 [==============================] - 0s 15us/step - loss: 0.2303\n",
      "Epoch 28/50\n",
      "19220/19220 [==============================] - 0s 14us/step - loss: 0.2252\n",
      "Epoch 29/50\n",
      "19220/19220 [==============================] - 0s 14us/step - loss: 0.2271\n",
      "Epoch 30/50\n",
      "19220/19220 [==============================] - 0s 14us/step - loss: 0.2245\n",
      "Epoch 31/50\n",
      "19220/19220 [==============================] - 0s 14us/step - loss: 0.2239\n",
      "Epoch 32/50\n",
      "19220/19220 [==============================] - 0s 14us/step - loss: 0.2214\n",
      "Epoch 33/50\n",
      "19220/19220 [==============================] - 0s 14us/step - loss: 0.2193\n",
      "Epoch 34/50\n",
      "19220/19220 [==============================] - 0s 14us/step - loss: 0.2209\n",
      "Epoch 35/50\n",
      "19220/19220 [==============================] - 0s 15us/step - loss: 0.2195\n",
      "Epoch 36/50\n",
      "19220/19220 [==============================] - 0s 15us/step - loss: 0.2164\n",
      "Epoch 37/50\n",
      "19220/19220 [==============================] - 0s 17us/step - loss: 0.2161\n",
      "Epoch 38/50\n",
      "19220/19220 [==============================] - 0s 14us/step - loss: 0.2166\n",
      "Epoch 39/50\n",
      "19220/19220 [==============================] - 0s 14us/step - loss: 0.2147\n",
      "Epoch 40/50\n",
      "19220/19220 [==============================] - 0s 15us/step - loss: 0.2135\n",
      "Epoch 41/50\n",
      "19220/19220 [==============================] - 0s 14us/step - loss: 0.2165\n",
      "Epoch 42/50\n",
      "19220/19220 [==============================] - 0s 13us/step - loss: 0.2112\n",
      "Epoch 43/50\n",
      "19220/19220 [==============================] - 0s 14us/step - loss: 0.2093\n",
      "Epoch 44/50\n",
      "19220/19220 [==============================] - 0s 13us/step - loss: 0.2124\n",
      "Epoch 45/50\n",
      "19220/19220 [==============================] - 0s 14us/step - loss: 0.2084\n",
      "Epoch 46/50\n",
      "19220/19220 [==============================] - 0s 14us/step - loss: 0.2040\n",
      "Epoch 47/50\n",
      "19220/19220 [==============================] - 0s 14us/step - loss: 0.2060\n",
      "Epoch 48/50\n",
      "19220/19220 [==============================] - 0s 14us/step - loss: 0.2069\n",
      "Epoch 49/50\n",
      "19220/19220 [==============================] - 0s 14us/step - loss: 0.2065\n",
      "Epoch 50/50\n",
      "19220/19220 [==============================] - 0s 15us/step - loss: 0.2023\n",
      "tuned MLP: {'f1_test': 0.4902386117136659, 'mcc_test': 0.4486404596797615}\n"
     ]
    }
   ],
   "source": [
    "# fix random seed for reproducibility\n",
    "seed = 0\n",
    "np.random.seed(seed)\n",
    "\n",
    "# create model\n",
    "tuned_MLP_clf = Sequential()\n",
    "tuned_MLP_clf.add(Dense(128, activation='relu', input_shape= data_agg['X_train'].shape[1:]))\n",
    "tuned_MLP_clf.add(Dropout(0.1))\n",
    "tuned_MLP_clf.add(Dense(32, activation='relu'))\n",
    "tuned_MLP_clf.add(Dropout(0.1))\n",
    "tuned_MLP_clf.add(Dense(8, activation='relu'))\n",
    "tuned_MLP_clf.add(Dropout(0.1))\n",
    "tuned_MLP_clf.add(Dense(1, activation='sigmoid'))\n",
    "tuned_MLP_clf.compile(optimizer='adam', loss='binary_crossentropy')\n",
    "\n",
    "# train the model\n",
    "if not os.path.exists('data'):\n",
    "    os.makedirs('data')\n",
    "tuned_MLP_clf.fit(data_agg['X_train'].values, data['y_train']['in_hospital_death'],\n",
    "                  batch_size=512, epochs=50, verbose=1, shuffle=True)\n",
    "\n",
    "# predict the labels\n",
    "predictions_test = tuned_MLP_clf.predict(data_agg['X_test'].values) > 0.5\n",
    "\n",
    "# record the results\n",
    "tuned_MLP_clf_results = {}\n",
    "for score, func in score_metrics.items():\n",
    "    tuned_MLP_clf_results[score+\"_test\"] = func(data['y_test']['in_hospital_death'], predictions_test)\n",
    "    \n",
    "print('tuned MLP:', tuned_MLP_clf_results)\n"
   ]
  },
  {
   "cell_type": "raw",
   "metadata": {},
   "source": [
    "Importance des fonctionnalités\n",
    "Nous voulons savoir comment la caractéristique liée à la mort à l'hôpital."
   ]
  },
  {
   "cell_type": "code",
   "execution_count": 33,
   "metadata": {},
   "outputs": [
    {
     "data": {
      "image/png": "[encoded data removed]",
      "text/plain": [
       "<matplotlib.figure.Figure at 0x1a24027c50>"
      ]
     },
     "metadata": {},
     "output_type": "display_data"
    }
   ],
   "source": [
    "# Train the supervised model on the training set using .fit(X_train, y_train)\n",
    "model = GradientBoostingClassifier(random_state = 0, learning_rate=0.2, n_estimators=100, \n",
    "                                   max_depth=5, min_samples_split=100, min_samples_leaf=1)\n",
    "\n",
    "model.fit(data_agg['X_train'], data['y_train']['in_hospital_death'])\n",
    "\n",
    "# Extract the feature importances using .feature_importances_ \n",
    "importances = model.feature_importances_\n",
    "\n",
    "# Plot\n",
    "vs.feature_plot(importances, data_agg['X_train'], data['y_train']['in_hospital_death'])"
   ]
  },
  {
   "cell_type": "code",
   "execution_count": null,
   "metadata": {},
   "outputs": [],
   "source": []
  }
 ],
 "metadata": {
  "kernelspec": {
   "display_name": "Python 3",
   "language": "python",
   "name": "python3"
  },
  "language_info": {
   "codemirror_mode": {
    "name": "ipython",
    "version": 3
   },
   "file_extension": ".py",
   "mimetype": "text/x-python",
   "name": "python",
   "nbconvert_exporter": "python",
   "pygments_lexer": "ipython3",
   "version": "3.6.4"
  }
 },
 "nbformat": 4,
 "nbformat_minor": 2
}
